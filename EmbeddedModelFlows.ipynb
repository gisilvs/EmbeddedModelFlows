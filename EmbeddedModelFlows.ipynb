{
  "nbformat": 4,
  "nbformat_minor": 0,
  "metadata": {
    "accelerator": "GPU",
    "colab": {
      "name": "EmbeddedModelFlows.ipynb",
      "provenance": [],
      "collapsed_sections": []
    },
    "kernelspec": {
      "display_name": "Python 3",
      "name": "python3"
    },
    "language_info": {
      "name": "python"
    }
  },
  "cells": [
    {
      "cell_type": "markdown",
      "metadata": {
        "id": "CmW56G7thNLu"
      },
      "source": [
        "# Introduction\n",
        "\n",
        "This notebook is a demonstration on how to define and use a gated Embedded-Model flow on the time series datasets with either continuity or smoothness structures. The implementation for all the experiments can be found in the public repo, which is currently under refactoring for official release."
      ]
    },
    {
      "cell_type": "code",
      "metadata": {
        "colab": {
          "base_uri": "https://localhost:8080/"
        },
        "id": "bq7QCaLkrx2e",
        "outputId": "4da548df-553b-42da-e091-489bdc175300"
      },
      "source": [
        "!pip install tf-nightly tfp-nightly"
      ],
      "execution_count": 433,
      "outputs": [
        {
          "output_type": "stream",
          "name": "stdout",
          "text": [
            "Requirement already satisfied: tf-nightly in /usr/local/lib/python3.7/dist-packages (2.8.0.dev20211107)\n",
            "Requirement already satisfied: tfp-nightly in /usr/local/lib/python3.7/dist-packages (0.15.0.dev20211107)\n",
            "Requirement already satisfied: tf-estimator-nightly~=2.8.0.dev in /usr/local/lib/python3.7/dist-packages (from tf-nightly) (2.8.0.dev2021110708)\n",
            "Requirement already satisfied: h5py>=2.9.0 in /usr/local/lib/python3.7/dist-packages (from tf-nightly) (3.1.0)\n",
            "Requirement already satisfied: libclang>=9.0.1 in /usr/local/lib/python3.7/dist-packages (from tf-nightly) (12.0.0)\n",
            "Requirement already satisfied: absl-py>=0.4.0 in /usr/local/lib/python3.7/dist-packages (from tf-nightly) (0.12.0)\n",
            "Requirement already satisfied: opt-einsum>=2.3.2 in /usr/local/lib/python3.7/dist-packages (from tf-nightly) (3.3.0)\n",
            "Requirement already satisfied: wheel<1.0,>=0.32.0 in /usr/local/lib/python3.7/dist-packages (from tf-nightly) (0.37.0)\n",
            "Requirement already satisfied: flatbuffers<3.0,>=1.12 in /usr/local/lib/python3.7/dist-packages (from tf-nightly) (1.12)\n",
            "Requirement already satisfied: typing-extensions>=3.6.6 in /usr/local/lib/python3.7/dist-packages (from tf-nightly) (3.7.4.3)\n",
            "Requirement already satisfied: termcolor>=1.1.0 in /usr/local/lib/python3.7/dist-packages (from tf-nightly) (1.1.0)\n",
            "Requirement already satisfied: six>=1.12.0 in /usr/local/lib/python3.7/dist-packages (from tf-nightly) (1.15.0)\n",
            "Requirement already satisfied: tb-nightly~=2.8.0.a in /usr/local/lib/python3.7/dist-packages (from tf-nightly) (2.8.0a20211106)\n",
            "Requirement already satisfied: google-pasta>=0.1.1 in /usr/local/lib/python3.7/dist-packages (from tf-nightly) (0.2.0)\n",
            "Requirement already satisfied: astunparse>=1.6.0 in /usr/local/lib/python3.7/dist-packages (from tf-nightly) (1.6.3)\n",
            "Requirement already satisfied: grpcio<2.0,>=1.24.3 in /usr/local/lib/python3.7/dist-packages (from tf-nightly) (1.41.0)\n",
            "Requirement already satisfied: wrapt>=1.11.0 in /usr/local/lib/python3.7/dist-packages (from tf-nightly) (1.12.1)\n",
            "Requirement already satisfied: numpy>=1.14.5 in /usr/local/lib/python3.7/dist-packages (from tf-nightly) (1.19.5)\n",
            "Requirement already satisfied: tensorflow-io-gcs-filesystem>=0.21.0 in /usr/local/lib/python3.7/dist-packages (from tf-nightly) (0.21.0)\n",
            "Requirement already satisfied: gast<0.5.0,>=0.2.1 in /usr/local/lib/python3.7/dist-packages (from tf-nightly) (0.4.0)\n",
            "Requirement already satisfied: protobuf>=3.9.2 in /usr/local/lib/python3.7/dist-packages (from tf-nightly) (3.17.3)\n",
            "Requirement already satisfied: keras-nightly~=2.8.0.dev in /usr/local/lib/python3.7/dist-packages (from tf-nightly) (2.8.0.dev2021110808)\n",
            "Requirement already satisfied: keras-preprocessing>=1.1.1 in /usr/local/lib/python3.7/dist-packages (from tf-nightly) (1.1.2)\n",
            "Requirement already satisfied: cached-property in /usr/local/lib/python3.7/dist-packages (from h5py>=2.9.0->tf-nightly) (1.5.2)\n",
            "Requirement already satisfied: google-auth<3,>=1.6.3 in /usr/local/lib/python3.7/dist-packages (from tb-nightly~=2.8.0.a->tf-nightly) (1.35.0)\n",
            "Requirement already satisfied: google-auth-oauthlib<0.5,>=0.4.1 in /usr/local/lib/python3.7/dist-packages (from tb-nightly~=2.8.0.a->tf-nightly) (0.4.6)\n",
            "Requirement already satisfied: tensorboard-data-server<0.7.0,>=0.6.0 in /usr/local/lib/python3.7/dist-packages (from tb-nightly~=2.8.0.a->tf-nightly) (0.6.1)\n",
            "Requirement already satisfied: markdown>=2.6.8 in /usr/local/lib/python3.7/dist-packages (from tb-nightly~=2.8.0.a->tf-nightly) (3.3.4)\n",
            "Requirement already satisfied: setuptools>=41.0.0 in /usr/local/lib/python3.7/dist-packages (from tb-nightly~=2.8.0.a->tf-nightly) (57.4.0)\n",
            "Requirement already satisfied: requests<3,>=2.21.0 in /usr/local/lib/python3.7/dist-packages (from tb-nightly~=2.8.0.a->tf-nightly) (2.23.0)\n",
            "Requirement already satisfied: werkzeug>=0.11.15 in /usr/local/lib/python3.7/dist-packages (from tb-nightly~=2.8.0.a->tf-nightly) (1.0.1)\n",
            "Requirement already satisfied: tensorboard-plugin-wit>=1.6.0 in /usr/local/lib/python3.7/dist-packages (from tb-nightly~=2.8.0.a->tf-nightly) (1.8.0)\n",
            "Requirement already satisfied: cachetools<5.0,>=2.0.0 in /usr/local/lib/python3.7/dist-packages (from google-auth<3,>=1.6.3->tb-nightly~=2.8.0.a->tf-nightly) (4.2.4)\n",
            "Requirement already satisfied: pyasn1-modules>=0.2.1 in /usr/local/lib/python3.7/dist-packages (from google-auth<3,>=1.6.3->tb-nightly~=2.8.0.a->tf-nightly) (0.2.8)\n",
            "Requirement already satisfied: rsa<5,>=3.1.4 in /usr/local/lib/python3.7/dist-packages (from google-auth<3,>=1.6.3->tb-nightly~=2.8.0.a->tf-nightly) (4.7.2)\n",
            "Requirement already satisfied: requests-oauthlib>=0.7.0 in /usr/local/lib/python3.7/dist-packages (from google-auth-oauthlib<0.5,>=0.4.1->tb-nightly~=2.8.0.a->tf-nightly) (1.3.0)\n",
            "Requirement already satisfied: importlib-metadata in /usr/local/lib/python3.7/dist-packages (from markdown>=2.6.8->tb-nightly~=2.8.0.a->tf-nightly) (4.8.1)\n",
            "Requirement already satisfied: pyasn1<0.5.0,>=0.4.6 in /usr/local/lib/python3.7/dist-packages (from pyasn1-modules>=0.2.1->google-auth<3,>=1.6.3->tb-nightly~=2.8.0.a->tf-nightly) (0.4.8)\n",
            "Requirement already satisfied: chardet<4,>=3.0.2 in /usr/local/lib/python3.7/dist-packages (from requests<3,>=2.21.0->tb-nightly~=2.8.0.a->tf-nightly) (3.0.4)\n",
            "Requirement already satisfied: idna<3,>=2.5 in /usr/local/lib/python3.7/dist-packages (from requests<3,>=2.21.0->tb-nightly~=2.8.0.a->tf-nightly) (2.10)\n",
            "Requirement already satisfied: urllib3!=1.25.0,!=1.25.1,<1.26,>=1.21.1 in /usr/local/lib/python3.7/dist-packages (from requests<3,>=2.21.0->tb-nightly~=2.8.0.a->tf-nightly) (1.24.3)\n",
            "Requirement already satisfied: certifi>=2017.4.17 in /usr/local/lib/python3.7/dist-packages (from requests<3,>=2.21.0->tb-nightly~=2.8.0.a->tf-nightly) (2021.5.30)\n",
            "Requirement already satisfied: oauthlib>=3.0.0 in /usr/local/lib/python3.7/dist-packages (from requests-oauthlib>=0.7.0->google-auth-oauthlib<0.5,>=0.4.1->tb-nightly~=2.8.0.a->tf-nightly) (3.1.1)\n",
            "Requirement already satisfied: decorator in /usr/local/lib/python3.7/dist-packages (from tfp-nightly) (4.4.2)\n",
            "Requirement already satisfied: dm-tree in /usr/local/lib/python3.7/dist-packages (from tfp-nightly) (0.1.6)\n",
            "Requirement already satisfied: cloudpickle>=1.3 in /usr/local/lib/python3.7/dist-packages (from tfp-nightly) (1.3.0)\n",
            "Requirement already satisfied: zipp>=0.5 in /usr/local/lib/python3.7/dist-packages (from importlib-metadata->markdown>=2.6.8->tb-nightly~=2.8.0.a->tf-nightly) (3.6.0)\n"
          ]
        }
      ]
    },
    {
      "cell_type": "code",
      "metadata": {
        "id": "eBG-Vl7nsY6M"
      },
      "source": [
        "import functools\n",
        "\n",
        "import tensorflow as tf\n",
        "import tensorflow_probability as tfp\n",
        "from tensorflow_probability.python.internal import prefer_static as ps\n",
        "\n",
        "import numpy as np\n",
        "import matplotlib.pyplot as plt\n",
        "\n",
        "tfd = tfp.distributions\n",
        "tfb = tfp.bijectors\n",
        "tfk = tf.keras\n",
        "tfkl = tfk.layers\n",
        "Root = tfd.JointDistributionCoroutine.Root"
      ],
      "execution_count": 434,
      "outputs": []
    },
    {
      "cell_type": "markdown",
      "metadata": {
        "id": "BHa_ngRoboTA"
      },
      "source": [
        "# Gated EMF\n",
        "In the following code blocks there is an implementation fo the Gated EMF bijector. For the non gated case, with most distributions it is possible to create the EMF bijector by first defining a structure as a `JointDistributionCoroutine` as we will see later, and then using \n",
        "\n",
        "```bijector = tfe.bijectors.make_distribution_bijector(structure)```\n",
        "\n",
        "The way to build the gated version is still in the development phase, and for now works by first initializing a (global) dict containing the gating parameters, one for each variable. \n",
        "\n",
        "We then define a bijector class to turn Normal distributions into gated bijectors (a more generic version is available in the file `gate_bijector.py`.\n",
        "Finally, the GatedAutoFromNormal class allows us to turn any `JointDistributionCoroutine` into a gated bijector. Note that we have to manually define the bijective transformations in the dict `gated_stdnormal_bijector_fns`. "
      ]
    },
    {
      "cell_type": "code",
      "metadata": {
        "id": "EspQB_mb_Qc_"
      },
      "source": [
        "# Global dict (DANGEROUS)\n",
        "residual_fraction_vars = {}\n",
        "\n",
        "def get_residual_fraction(dist):\n",
        "  dist_name = dist.parameters['name']\n",
        "  if dist_name not in residual_fraction_vars:\n",
        "    bij = tfb.Chain([tfb.Sigmoid(), tfb.Scale(100)])\n",
        "    residual_fraction_vars[dist_name] = tfp.util.TransformedVariable(0.999,\n",
        "                                                                     bijector=bij,\n",
        "                                                                     name=f'residual_fraction')   \n",
        "  return residual_fraction_vars[dist_name]"
      ],
      "execution_count": 435,
      "outputs": []
    },
    {
      "cell_type": "code",
      "metadata": {
        "id": "tOxGvMTiuj7T"
      },
      "source": [
        "class GateBijectorForNormal(tfb.Bijector):\n",
        "\n",
        "  def __init__(self, loc, scale, residual_fraction, validate_args=False,\n",
        "               name='gate_bijector_for_normal'):\n",
        "    self.loc = loc\n",
        "    self.scale = scale\n",
        "    self.residual_fraction = residual_fraction\n",
        "    super(GateBijectorForNormal, self).__init__(\n",
        "      validate_args=validate_args,\n",
        "      forward_min_event_ndims=0,\n",
        "      name=name)\n",
        "\n",
        "  def _forward(self, x):\n",
        "    x = self.residual_fraction * (self.loc + self.scale * x) + \\\n",
        "        (1 - self.residual_fraction) * x\n",
        "    return x\n",
        "\n",
        "  def _inverse(self, y):\n",
        "    y = (y - self.residual_fraction * self.loc) / (\n",
        "          self.residual_fraction * self.scale + 1 - self.residual_fraction)\n",
        "    return y\n",
        "\n",
        "  def _forward_log_det_jacobian(self, x):\n",
        "    fldj = tf.math.log(\n",
        "      self.residual_fraction * (self.scale-1) + 1)\n",
        "    return fldj"
      ],
      "execution_count": 436,
      "outputs": []
    },
    {
      "cell_type": "code",
      "metadata": {
        "id": "kPnZ04jMvAmJ"
      },
      "source": [
        "gated_stdnormal_bijector_fns = {\n",
        "  tfd.Gamma: lambda d: tfd.ApproxGammaFromNormal(d.concentration,\n",
        "                                                 d._rate_parameter()),\n",
        "  # using specific bijector for normal, use next line for generic one\n",
        "  tfd.Normal: lambda d: GateBijectorForNormal(d.loc, d.scale, get_residual_fraction(d)),\n",
        "  # tfd.Normal: lambda d: GateBijector(tfb.Shift(d.loc)(tfb.Scale(d.scale)),\n",
        "                                     # get_residual_fraction(d)),\n",
        "  tfd.HalfNormal: lambda d: GateBijector(tfb.Softplus()(tfb.Scale(d.scale)),\n",
        "                                         get_residual_fraction(d)),\n",
        "  tfd.MultivariateNormalDiag: lambda d: GateBijector(\n",
        "    tfb.Shift(d.loc)(tfb.Scale(d.scale)), get_residual_fraction(d)),\n",
        "  tfd.MultivariateNormalTriL: lambda d: GateBijector(tfb.Shift(d.loc)(\n",
        "    tfb.ScaleTriL(d.scale_tril)), get_residual_fraction(d)),\n",
        "  tfd.TransformedDistribution: lambda d: d.bijector(\n",
        "    _gated_bijector_from_stdnormal(d.distribution)),\n",
        "  tfd.Uniform: lambda d: GateBijector(tfb.Shift(d.low)(\n",
        "    tfb.Scale(d.high - d.low)(tfb.NormalCDF())), get_residual_fraction(d)),\n",
        "  tfd.Sample: lambda d: _gated_bijector_from_stdnormal_sample(d.distribution),\n",
        "  tfd.Independent: lambda d: _gated_bijector_from_stdnormal(d.distribution),\n",
        "  tfd.MixtureSameFamily: lambda d: GateBijector(tfb.Chain([InverseMixtureOfGaussians(d), tfb.NormalCDF()]), get_residual_fraction(d))\n",
        "}\n",
        "\n",
        "def _gated_bijector_from_stdnormal(dist):\n",
        "  fn = gated_stdnormal_bijector_fns[type(dist)]\n",
        "  return fn(dist)\n",
        "\n",
        "class GatedAutoFromNormal(tfd.joint_distribution._DefaultJointBijector):\n",
        "\n",
        "  def __init__(self, dist):\n",
        "    return super().__init__(dist, bijector_fn=_gated_bijector_from_stdnormal)"
      ],
      "execution_count": 437,
      "outputs": []
    },
    {
      "cell_type": "markdown",
      "metadata": {
        "id": "dXyOnufze0-_"
      },
      "source": [
        "# Flows funcitons\n",
        "\n",
        "In the following blocks we define a few functions to get Masked Autoregressive Flows (or their inverse, Inverse Autoregressive Flows) and Gated EMF."
      ]
    },
    {
      "cell_type": "code",
      "metadata": {
        "id": "p5CEd1NtuM54"
      },
      "source": [
        "def build_iaf_bijector(num_hidden_units,\n",
        "                       ndims,\n",
        "                       activation_fn,\n",
        "                       dtype,\n",
        "                       num_flow_layers=2, is_iaf=True):\n",
        "  make_swap = lambda: tfb.Permute(ps.range(ndims - 1, -1, -1))\n",
        "\n",
        "  def make_maf():\n",
        "    net = tfb.AutoregressiveNetwork(\n",
        "      2,\n",
        "      hidden_units=[num_hidden_units, num_hidden_units],\n",
        "      activation=activation_fn,\n",
        "      dtype=dtype)\n",
        "\n",
        "    maf = tfb.MaskedAutoregressiveFlow(\n",
        "      bijector_fn=lambda x: tfb.Chain(\n",
        "        [tfb.Shift(net(x)[Ellipsis, 0]),  # pylint: disable=g-long-lambda\n",
        "         tfb.Scale(log_scale=net(x)[Ellipsis, 1])]))\n",
        "\n",
        "    if is_iaf:\n",
        "      maf = tfb.Invert(maf)\n",
        "    # To track the variables\n",
        "    maf._net = net  # pylint: disable=protected-access\n",
        "    return maf\n",
        "\n",
        "  iaf_bijector = [make_maf()]\n",
        "  '''if not is_iaf:\n",
        "    iaf_bijector.append(tfb.BatchNormalization())'''\n",
        "  for _ in range(num_flow_layers - 1):\n",
        "    iaf_bijector.extend([make_swap(), make_maf()])\n",
        "    '''if not is_iaf:\n",
        "      iaf_bijector.append(tfb.BatchNormalization())'''\n",
        "\n",
        "  return iaf_bijector"
      ],
      "execution_count": 438,
      "outputs": []
    },
    {
      "cell_type": "code",
      "metadata": {
        "id": "kpHZb-ervQxa"
      },
      "source": [
        "'''used to get some useful info about the input structure'''\n",
        "def get_prior_matching_bijectors_and_event_dims(prior):\n",
        "  event_shape = prior.event_shape_tensor()\n",
        "  flat_event_shape = tf.nest.flatten(event_shape)\n",
        "  flat_event_size = tf.nest.map_structure(tf.reduce_prod, flat_event_shape)\n",
        "  try:\n",
        "    event_space_bijector = prior.experimental_default_event_space_bijector()\n",
        "  except:\n",
        "    event_space_bijector = None\n",
        "\n",
        "  split_bijector = tfb.Split(flat_event_size)\n",
        "  unflatten_bijector = tfb.Restructure(\n",
        "    tf.nest.pack_sequence_as(\n",
        "      event_shape, range(len(flat_event_shape))))\n",
        "  reshape_bijector = tfb.JointMap(\n",
        "    tf.nest.map_structure(tfb.Reshape, flat_event_shape,\n",
        "                          [x[tf.newaxis] for x in flat_event_size]))\n",
        "\n",
        "  if event_space_bijector:\n",
        "\n",
        "    prior_matching_bijectors = [event_space_bijector, unflatten_bijector,\n",
        "                                reshape_bijector, split_bijector]\n",
        "\n",
        "  else:\n",
        "    prior_matching_bijectors = [unflatten_bijector,\n",
        "                                reshape_bijector, split_bijector]\n",
        "\n",
        "  dtype = tf.nest.flatten(prior.dtype)[0]\n",
        "\n",
        "  return event_shape, flat_event_shape, flat_event_size, int(\n",
        "    tf.reduce_sum(flat_event_size)), dtype, prior_matching_bijectors\n"
      ],
      "execution_count": 439,
      "outputs": []
    },
    {
      "cell_type": "code",
      "metadata": {
        "id": "nGr1rvEPwBj6"
      },
      "source": [
        "def get_maf(structure, flow_params={}):\n",
        "  event_shape, flat_event_shape, flat_event_size, ndims, dtype, prior_matching_bijectors = get_prior_matching_bijectors_and_event_dims(\n",
        "    structure)\n",
        "\n",
        "  base_distribution = tfd.Sample(\n",
        "    tfd.Normal(tf.zeros([], dtype=dtype), 1.), sample_shape=[ndims])\n",
        "  if 'num_flow_layers' not in flow_params:\n",
        "    flow_params['num_flow_layers'] = 2\n",
        "  if 'num_hidden_units' not in flow_params:\n",
        "    flow_params['num_hidden_units'] = 512\n",
        "  if 'activation_fn' not in flow_params:\n",
        "    flow_params['activation_fn'] = tf.math.tanh\n",
        "  flow_params['dtype'] = dtype\n",
        "  flow_params['ndims'] = ndims\n",
        "  flow_params['is_iaf'] = False\n",
        "  flow_bijector = build_iaf_bijector(**flow_params)\n",
        "\n",
        "  nf_surrogate_posterior = tfd.TransformedDistribution(\n",
        "    base_distribution,\n",
        "    bijector=tfb.Chain(prior_matching_bijectors +\n",
        "                       flow_bijector\n",
        "                       ))\n",
        "\n",
        "  return nf_surrogate_posterior"
      ],
      "execution_count": 440,
      "outputs": []
    },
    {
      "cell_type": "code",
      "metadata": {
        "id": "1JobbbiBwbDC"
      },
      "source": [
        "def get_gated_emf_t(prior_structure, flow_params={}):\n",
        "  residual_fraction_vars = {}\n",
        "  flow_params['activation_fn'] = tf.nn.relu\n",
        "  backbone_flow = get_maf(structure=prior_structure, flow_params=flow_params)\n",
        "  bijector = GatedAutoFromNormal(prior_structure)\n",
        "  return tfd.TransformedDistribution(\n",
        "    distribution=backbone_flow,\n",
        "    bijector=bijector\n",
        "  )"
      ],
      "execution_count": 441,
      "outputs": []
    },
    {
      "cell_type": "markdown",
      "metadata": {
        "id": "4dDinItOfYhq"
      },
      "source": [
        "# Training functions"
      ]
    },
    {
      "cell_type": "markdown",
      "metadata": {
        "id": "S065mnnHf11U"
      },
      "source": [
        "In `build_model` we can initialize a new model. We can choose between MAF with two autoregressive layers (maf), MAF with three autoregressive layers (maf3) and gated EMF with structured bijector on top (gated_emf_t). We also specify the induced structures, continuity or smoothness. Finally, we define the toy datasets as generators, for Brownian Motion, Lorenz System and Ornstein-Uhlenbeck process."
      ]
    },
    {
      "cell_type": "code",
      "metadata": {
        "id": "qvAAmYYitKcj"
      },
      "source": [
        "@tf.function\n",
        "def optimizer_step(net, inputs):\n",
        "  with tf.GradientTape() as tape:\n",
        "    loss = -net.log_prob(inputs)\n",
        "  grads = tape.gradient(loss, net.trainable_variables)\n",
        "  optimizer.apply_gradients(zip(grads, net.trainable_variables))\n",
        "  return loss"
      ],
      "execution_count": 442,
      "outputs": []
    },
    {
      "cell_type": "code",
      "metadata": {
        "id": "0skEFJq5tjuQ"
      },
      "source": [
        "def build_model(model_name, time_step_dim, series_len, structure):\n",
        "    if model_name=='maf' or model_name == 'maf3':\n",
        "      scales = tf.ones(time_step_dim)\n",
        "    else:\n",
        "      scales = tfp.util.TransformedVariable(tf.ones(time_step_dim), tfb.Softplus())\n",
        "    initial_mean = tf.zeros(time_step_dim)\n",
        "\n",
        "    if structure == 'continuity':\n",
        "      @tfd.JointDistributionCoroutine\n",
        "      def prior_structure():\n",
        "        new = yield Root(tfd.Independent(tfd.Normal(loc=initial_mean,\n",
        "                                    scale=tf.ones_like(initial_mean), name='prior0'),1))\n",
        "\n",
        "        for t in range(1, series_len):\n",
        "          new = yield tfd.Independent(tfd.Normal(loc=new,\n",
        "                                 scale=scales,  name=f'prior{t}'), 1)\n",
        "\n",
        "    elif structure == 'smoothness':\n",
        "      @tfd.JointDistributionCoroutine\n",
        "      def prior_structure():\n",
        "        previous = yield Root(tfd.Independent(tfd.Normal(loc=initial_mean,\n",
        "                                                    scale=tf.ones_like(initial_mean), name='prior0'), 1))\n",
        "        current = yield Root(tfd.Independent(tfd.Normal(loc=initial_mean,\n",
        "                                                    scale=tf.ones_like(initial_mean), name='prior1'), 1))\n",
        "        for t in range(2, series_len):\n",
        "          new = yield tfd.Independent(tfd.Normal(loc=2 * current - previous,\n",
        "                                                 scale=scales, name=f'prior{t}'), 1)\n",
        "          previous = current\n",
        "          current = new\n",
        "\n",
        "    prior_matching_bijector = tfb.Chain(\n",
        "        get_prior_matching_bijectors_and_event_dims(prior_structure)[-1])\n",
        "\n",
        "    if model_name == 'maf':\n",
        "      flow = get_maf(prior_structure)\n",
        "    elif model_name == 'maf3':\n",
        "      flow_params={'num_flow_layers':3}\n",
        "      flow = get_maf(prior_structure, flow_params)\n",
        "    elif model_name == 'gated_emf_t':\n",
        "      flow = get_gated_emf_t(prior_structure)\n",
        "\n",
        "    flow.log_prob(prior_structure.sample(1))\n",
        "\n",
        "    return flow, prior_matching_bijector"
      ],
      "execution_count": 443,
      "outputs": []
    },
    {
      "cell_type": "code",
      "metadata": {
        "id": "SLu-Pwxyr6Ic"
      },
      "source": [
        "@tfd.JointDistributionCoroutine\n",
        "def lorenz_system():\n",
        "  truth = []\n",
        "  innovation_noise = .1\n",
        "  step_size = 0.02\n",
        "  loc = yield Root(tfd.Sample(tfd.Normal(0., 1., name='x_0'), sample_shape=3))\n",
        "  for t in range(1, 30):\n",
        "    x, y, z = tf.unstack(loc, axis=-1)\n",
        "    truth.append(x)\n",
        "    dx = 10 * (y - x)\n",
        "    dy = x * (28 - z) - y\n",
        "    dz = x * y - 8 / 3 * z\n",
        "    delta = tf.stack([dx, dy, dz], axis=-1)\n",
        "    loc = yield tfd.Independent(\n",
        "      tfd.Normal(loc + step_size * delta,\n",
        "                 tf.sqrt(step_size) * innovation_noise, name=f'x_{t}'),\n",
        "      reinterpreted_batch_ndims=1)\n",
        "\n",
        "@tfd.JointDistributionCoroutine\n",
        "def brownian_motion():\n",
        "  new = yield Root(tfd.Normal(loc=0, scale=.1))\n",
        "\n",
        "  for t in range(1, 30):\n",
        "    new = yield tfd.Normal(loc=new, scale=.1)\n",
        "\n",
        "@tfd.JointDistributionCoroutine\n",
        "def ornstein_uhlenbeck():\n",
        "  a = 0.8\n",
        "  new = yield Root(tfd.Normal(loc=0, scale=5.))\n",
        "\n",
        "  for t in range(1, 30):\n",
        "    new = yield tfd.Normal(loc=a*new, scale=.5)\n",
        "\n",
        "def time_series_gen(batch_size, dataset_name):\n",
        "  if dataset_name == 'lorenz':\n",
        "    while True:\n",
        "      yield tf.reshape(tf.transpose(tf.convert_to_tensor(lorenz_system.sample(batch_size)),[1,0,2]), [batch_size, -1])\n",
        "  elif dataset_name == 'brownian':\n",
        "    while True:\n",
        "      yield tf.math.exp(tf.reshape(tf.transpose(tf.convert_to_tensor(brownian_motion.sample(batch_size)),[1,0]), [batch_size, -1]))\n",
        "  elif dataset_name == 'ornstein':\n",
        "    while True:\n",
        "      yield tf.reshape(tf.transpose(tf.convert_to_tensor(ornstein_uhlenbeck.sample(batch_size)),[1,0]), [batch_size, -1])"
      ],
      "execution_count": 444,
      "outputs": []
    },
    {
      "cell_type": "markdown",
      "metadata": {
        "id": "azVGy4RUhD8X"
      },
      "source": [
        "# Model Training"
      ]
    },
    {
      "cell_type": "markdown",
      "metadata": {
        "id": "XEKs76kIgnFv"
      },
      "source": [
        "Modify cell below for training settings"
      ]
    },
    {
      "cell_type": "code",
      "metadata": {
        "id": "wBZCjIArtJo6"
      },
      "source": [
        "num_iterations = int(50) # kept low just for demo\n",
        "dataset_name = 'lorenz' # brownian, ornstein, lorenz\n",
        "model_name = 'gated_emf_t' # maf, maf3, gated_emf_t\n",
        "structure = 'continuity' # 'continuity', 'smoothness'\n",
        "lr = 1e-4\n",
        "if dataset_name == 'lorenz':\n",
        "  time_step_dim = 3\n",
        "  series_len = 30\n",
        "\n",
        "elif dataset_name == 'brownian' or dataset_name == 'ornstein':\n",
        "  time_step_dim = 1\n",
        "  series_len = 30"
      ],
      "execution_count": 445,
      "outputs": []
    },
    {
      "cell_type": "code",
      "metadata": {
        "id": "LT9XdkDEy11x"
      },
      "source": [
        "flow, prior_matching_bijector = build_model(model_name, time_step_dim, series_len, structure)\n",
        "dataset = tf.data.Dataset.from_generator(functools.partial(time_series_gen, batch_size=int(100), dataset_name=dataset_name),\n",
        "                                             output_types=tf.float32).map(prior_matching_bijector).prefetch(tf.data.AUTOTUNE)"
      ],
      "execution_count": 446,
      "outputs": []
    },
    {
      "cell_type": "code",
      "metadata": {
        "id": "Yf8Y9xrazK6e"
      },
      "source": [
        "lr_decayed_fn = tf.keras.optimizers.schedules.CosineDecay(\n",
        "    initial_learning_rate=lr, decay_steps=5e5)\n",
        "optimizer = tf.optimizers.Adam(learning_rate=lr_decayed_fn)"
      ],
      "execution_count": 447,
      "outputs": []
    },
    {
      "cell_type": "code",
      "metadata": {
        "id": "s2IXKU75zPJ7"
      },
      "source": [
        "train_loss_results = []\n",
        "\n",
        "epoch_loss_avg = tf.keras.metrics.Mean()\n",
        "it = 0\n",
        "for x in dataset:\n",
        "\n",
        "  # Optimize the model\n",
        "  loss_value = optimizer_step(flow, x)\n",
        "  epoch_loss_avg.update_state(loss_value)\n",
        "\n",
        "  if it == 0:\n",
        "    best_loss = epoch_loss_avg.result()\n",
        "    epoch_loss_avg = tf.keras.metrics.Mean()\n",
        "  elif it % 1 == 0:\n",
        "    train_loss_results.append(epoch_loss_avg.result())\n",
        "    #print(train_loss_results[-1])\n",
        "    epoch_loss_avg = tf.keras.metrics.Mean()\n",
        "\n",
        "  if it >= num_iterations:\n",
        "    break\n",
        "  it += 1"
      ],
      "execution_count": 448,
      "outputs": []
    },
    {
      "cell_type": "code",
      "metadata": {
        "colab": {
          "base_uri": "https://localhost:8080/",
          "height": 282
        },
        "id": "d1RxKbBeztdo",
        "outputId": "03052d8a-63c6-41b1-b92d-94c9317ff46f"
      },
      "source": [
        "plt.plot(train_loss_results)"
      ],
      "execution_count": 449,
      "outputs": [
        {
          "output_type": "execute_result",
          "data": {
            "text/plain": [
              "[<matplotlib.lines.Line2D at 0x7f7178c97450>]"
            ]
          },
          "metadata": {},
          "execution_count": 449
        },
        {
          "output_type": "display_data",
          "data": {
            "image/png": "[encoded data removed]",
            "text/plain": [
              "<Figure size 432x288 with 1 Axes>"
            ]
          },
          "metadata": {
            "needs_background": "light"
          }
        }
      ]
    },
    {
      "cell_type": "code",
      "metadata": {
        "colab": {
          "base_uri": "https://localhost:8080/"
        },
        "id": "Cz593rSvzwSh",
        "outputId": "cbe7a93d-0754-4665-ba69-6ccfd11bbe6d"
      },
      "source": [
        "eval_dataset = tf.data.Dataset.from_generator(functools.partial(time_series_gen, batch_size=int(1e4), dataset_name=dataset_name),\n",
        "                                             output_types=tf.float32).map(prior_matching_bijector)\n",
        "\n",
        "eval_log_prob = -tf.reduce_mean(flow.log_prob(next(iter(eval_dataset))))\n",
        "print(eval_log_prob)"
      ],
      "execution_count": 450,
      "outputs": [
        {
          "output_type": "stream",
          "name": "stdout",
          "text": [
            "tf.Tensor(1033.2622, shape=(), dtype=float32)\n"
          ]
        }
      ]
    }
  ]
}